{
  "cells": [
    {
      "cell_type": "markdown",
      "metadata": {
        "id": "Gzh8v-jf8ihv"
      },
      "source": [
        "2. We import all library needed for training and visualisation"
      ]
    },
    {
      "cell_type": "code",
      "execution_count": null,
      "metadata": {
        "id": "bkcYXgb9aRLV"
      },
      "outputs": [],
      "source": [
        "from os import path\n",
        "import torch\n",
        "import torch.nn as nn\n",
        "import torchvision.datasets as datasets\n",
        "import torchvision.transforms as transforms\n",
        "import torch.optim as optim\n",
        "import torch.nn.functional as F\n",
        "import numpy as np\n",
        "import matplotlib.pyplot as plt\n",
        "from torch.autograd import Variable\n",
        "from copy import deepcopy\n",
        "import pandas as pd"
      ]
    },
    {
      "cell_type": "markdown",
      "metadata": {
        "id": "lePKqo_e8obk"
      },
      "source": [
        "3. We clone the continualAI repo ta get an easy to use data loader for mnist"
      ]
    },
    {
      "cell_type": "code",
      "execution_count": null,
      "metadata": {
        "colab": {
          "base_uri": "https://localhost:8080/"
        },
        "id": "H9JYmfPzaTCi",
        "outputId": "34ffe2e3-001a-46fb-9a32-622862e3d8ac"
      },
      "outputs": [
        {
          "output_type": "stream",
          "name": "stdout",
          "text": [
            "fatal: destination path 'continualai/colab' already exists and is not an empty directory.\n"
          ]
        }
      ],
      "source": [
        "!git clone https://github.com/ContinualAI/colab.git continualai/colab"
      ]
    },
    {
      "cell_type": "markdown",
      "metadata": {
        "id": "aIzKP9GU81TT"
      },
      "source": [
        "4. We import mnist and inialize it"
      ]
    },
    {
      "cell_type": "code",
      "execution_count": null,
      "metadata": {
        "colab": {
          "base_uri": "https://localhost:8080/"
        },
        "id": "192J3FHLa0nE",
        "outputId": "b8a27cde-aedf-47ca-8de3-72c53eacda52"
      },
      "outputs": [
        {
          "output_type": "stream",
          "name": "stdout",
          "text": [
            "Files already downloaded!\n"
          ]
        }
      ],
      "source": [
        "from continualai.colab.scripts import mnist\n",
        "mnist.init()"
      ]
    },
    {
      "cell_type": "markdown",
      "metadata": {
        "id": "JHdbAdK-8_xs"
      },
      "source": [
        "5. We can now load the data set and get training and testing data and labels"
      ]
    },
    {
      "cell_type": "code",
      "execution_count": null,
      "metadata": {
        "colab": {
          "base_uri": "https://localhost:8080/"
        },
        "id": "ec_SejbFa39O",
        "outputId": "fdaddf47-0b96-49f1-e6a9-26050e99fc97"
      },
      "outputs": [
        {
          "output_type": "stream",
          "name": "stdout",
          "text": [
            "x_train dim and type:  (60000, 1, 28, 28) float32\n",
            "t_train dim and type:  (60000,) uint8\n",
            "x_test dim and type:  (10000, 1, 28, 28) float32\n",
            "t_test dim and type:  (10000,) uint8\n"
          ]
        }
      ],
      "source": [
        "x_train, t_train, x_test, t_test = mnist.load()\n",
        "\n",
        "print(\"x_train dim and type: \", x_train.shape, x_train.dtype)\n",
        "print(\"t_train dim and type: \", t_train.shape, t_train.dtype)\n",
        "print(\"x_test dim and type: \", x_test.shape, x_test.dtype)\n",
        "print(\"t_test dim and type: \", t_test.shape, t_test.dtype)"
      ]
    },
    {
      "cell_type": "code",
      "source": [
        "from tensorflow.keras.utils import to_categorical\n",
        "\n",
        "t_train = to_categorical(t_train, 10)\n",
        "\n",
        "print(\"x_train dim and type: \", x_train.shape, x_train.dtype)\n",
        "print(\"t_train dim and type: \", t_train.shape, t_train.dtype)"
      ],
      "metadata": {
        "id": "3-IWg0MdRpv4",
        "colab": {
          "base_uri": "https://localhost:8080/"
        },
        "outputId": "80568751-81e9-4095-dd9c-2206068e2714"
      },
      "execution_count": null,
      "outputs": [
        {
          "output_type": "stream",
          "name": "stdout",
          "text": [
            "x_train dim and type:  (60000, 1, 28, 28) float32\n",
            "t_train dim and type:  (60000, 10) float32\n"
          ]
        }
      ]
    },
    {
      "cell_type": "markdown",
      "metadata": {
        "id": "V3bh6Gns9J4M"
      },
      "source": [
        "6. We set a flag to use cuda for GPU acceleration and we fix the seed for reproducibility purpose"
      ]
    },
    {
      "cell_type": "code",
      "execution_count": null,
      "metadata": {
        "id": "FbJnUx1Ma87D"
      },
      "outputs": [],
      "source": [
        "# switch to False to use CPU\n",
        "use_cuda = True\n",
        "\n",
        "use_cuda = use_cuda and torch.cuda.is_available()\n",
        "device = torch.device(\"cuda\" if use_cuda else \"cpu\");\n",
        "torch.manual_seed(1);"
      ]
    },
    {
      "cell_type": "markdown",
      "metadata": {
        "id": "RU9L7kJs9UX-"
      },
      "source": [
        "7. Creation of a generator. We will use a GAN to achieve Generative Replay."
      ]
    },
    {
      "cell_type": "code",
      "execution_count": null,
      "metadata": {
        "id": "-ZyVDR0TbM1a"
      },
      "outputs": [],
      "source": [
        "class Generator(nn.Module):\n",
        "    # Network Architecture is exactly same as in infoGAN (https://arxiv.org/abs/1606.03657)\n",
        "    # Architecture : FC1024_BR-FC7x7x128_BR-(64)4dc2s_BR-(1)4dc2s_S\n",
        "    def __init__(self):\n",
        "        super(Generator, self).__init__()\n",
        "\n",
        "        self.latent_dim = 1024\n",
        "        self.input_height = 28\n",
        "        self.input_width = 28\n",
        "        self.input_dim = 62\n",
        "        self.output_dim = 1\n",
        "\n",
        "        self.fc = nn.Sequential(\n",
        "            nn.Linear(self.input_dim, self.latent_dim),\n",
        "            nn.BatchNorm1d(self.latent_dim),\n",
        "            nn.ReLU(),\n",
        "            nn.Linear(self.latent_dim, 128 * (self.input_height // 4) * (self.input_width // 4)),\n",
        "            nn.BatchNorm1d(128 * (self.input_height // 4) * (self.input_width // 4)),\n",
        "            nn.ReLU(),\n",
        "        )\n",
        "        self.deconv = nn.Sequential(\n",
        "            nn.ConvTranspose2d(128, 64, 4, 2, 1),\n",
        "            nn.BatchNorm2d(64),\n",
        "            nn.ReLU(),\n",
        "            nn.ConvTranspose2d(64, self.output_dim, 4, 2, 1),\n",
        "            nn.Sigmoid(),\n",
        "        )\n",
        "\n",
        "        self.maxPool = nn.MaxPool2d((2, 2), stride=(2, 2))\n",
        "        self.Sigmoid = nn.Sigmoid()\n",
        "        self.apply(self.weights_init)\n",
        "\n",
        "    def reinit(self):\n",
        "      self.apply(self.weights_init)\n",
        "\n",
        "    def forward(self, input):\n",
        "        input = input.view(-1, self.input_dim)\n",
        "        x = self.fc(input)\n",
        "        x = x.view(-1, 128, (self.input_height // 4), (self.input_width // 4))\n",
        "        x = self.deconv(x)\n",
        "        return x\n",
        "\n",
        "    def weights_init(self, m):\n",
        "        classname = m.__class__.__name__\n",
        "        if classname.find('Conv') != -1:\n",
        "            m.weight.data.normal_(0.0, 0.02)\n",
        "        elif classname.find('BatchNorm') != -1:\n",
        "            m.weight.data.normal_(1.0, 0.02)\n",
        "            m.bias.data.fill_(0)"
      ]
    },
    {
      "cell_type": "markdown",
      "metadata": {
        "id": "sBQ3Emmz9pW_"
      },
      "source": [
        "7. Here is the Discriminator of our GAN"
      ]
    },
    {
      "cell_type": "code",
      "execution_count": null,
      "metadata": {
        "id": "g6EMu6RjcNMU"
      },
      "outputs": [],
      "source": [
        "class Discriminator(nn.Module):\n",
        "    # Network Architecture is exactly same as in infoGAN (https://arxiv.org/abs/1606.03657)\n",
        "    # Architecture : (64)4c2s-(128)4c2s_BL-FC1024_BL-FC1_S\n",
        "    def __init__(self):\n",
        "        super(Discriminator, self).__init__()\n",
        "        self.input_height = 28\n",
        "        self.input_width = 28\n",
        "        self.input_dim = 1\n",
        "        self.output_dim = 1\n",
        "\n",
        "        self.latent_dim = 1024\n",
        "\n",
        "        shape = 128 * (self.input_height // 4) * (self.input_width // 4)\n",
        "\n",
        "        self.fc1_1 = nn.Linear(784, self.latent_dim)\n",
        "        self.fc1_2 = nn.Linear(10, self.latent_dim)\n",
        "        self.fc2 = nn.Linear(self.latent_dim * 2, self.latent_dim // 2)\n",
        "        self.fc2_bn = nn.BatchNorm1d(self.latent_dim // 2)\n",
        "        self.fc3 = nn.Linear(self.latent_dim // 2, 256)\n",
        "        self.fc3_bn = nn.BatchNorm1d(256)\n",
        "        self.fc4 = nn.Linear(256, 1)\n",
        "\n",
        "        self.conv = nn.Sequential(\n",
        "            nn.Conv2d(self.input_dim, 64, 4, 2, 1),\n",
        "            nn.LeakyReLU(0.2),\n",
        "            nn.Conv2d(64, 128, 4, 2, 1),\n",
        "            nn.BatchNorm2d(128),\n",
        "            nn.LeakyReLU(0.2),\n",
        "        )\n",
        "        self.fc = nn.Sequential(\n",
        "            nn.Linear(shape, self.latent_dim),\n",
        "            nn.BatchNorm1d(self.latent_dim),\n",
        "            nn.LeakyReLU(0.2),\n",
        "            nn.Linear(self.latent_dim, self.output_dim),\n",
        "            nn.Sigmoid(),\n",
        "        )\n",
        "        self.aux_linear = nn.Linear(shape, 10)\n",
        "        self.softmax = nn.Softmax()\n",
        "        self.apply(self.weights_init)\n",
        "\n",
        "    def reinit(self):\n",
        "      self.apply(self.weights_init)\n",
        "\n",
        "    def weights_init(self, m):\n",
        "        classname = m.__class__.__name__\n",
        "        if classname.find('Conv') != -1:\n",
        "            m.weight.data.normal_(0.0, 0.02)\n",
        "        elif classname.find('BatchNorm') != -1:\n",
        "            m.weight.data.normal_(1.0, 0.02)\n",
        "            m.bias.data.fill_(0)\n",
        "\n",
        "    def forward(self, input):\n",
        "        x = self.conv(input)\n",
        "        x = x.view(x.data.shape[0], 128 * (self.input_height // 4) * (self.input_width // 4))\n",
        "        return self.fc(x)"
      ]
    },
    {
      "cell_type": "markdown",
      "metadata": {
        "id": "zeIrEez73O4e"
      },
      "source": [
        "분류기"
      ]
    },
    {
      "cell_type": "code",
      "execution_count": null,
      "metadata": {
        "id": "ELP9awvc6ERP"
      },
      "outputs": [],
      "source": [
        "class Classifier(nn.Module):\n",
        "    def __init__(self):\n",
        "        super(Classifier, self).__init__()\n",
        "\n",
        "        self.input_height = 28\n",
        "        self.input_width = 28\n",
        "        self.input_dim = 1\n",
        "        self.output_dim = 10\n",
        "        self.batchsize = 64\n",
        "        self.drop_prob = 0.3\n",
        "\n",
        "        self.softmax = nn.Softmax()\n",
        "\n",
        "        self.conv = nn.Sequential(\n",
        "            nn.Conv2d(self.input_dim, self.batchsize, kernel_size=3, stride=1, padding=1),\n",
        "            nn.ReLU(),\n",
        "            nn.BatchNorm2d(64),\n",
        "            nn.Dropout(self.drop_prob),\n",
        "            nn.Flatten())\n",
        "        self.fc = nn.Linear(self.batchsize * self.input_height * self.input_width, self.output_dim)\n",
        "\n",
        "    def forward(self, x):\n",
        "        x = x.view(-1, 1, self.input_height, self.input_width)\n",
        "        x = self.conv(x)\n",
        "        x = self.fc(x)\n",
        "\n",
        "        x = self.softmax(x)\n",
        "        return x\n",
        "\n",
        "    def predict(self, x_data):\n",
        "        result = self.forward(x_data)\n",
        "        result = self.softmax(result)\n",
        "        return result\n",
        "        # return torch.argmax(z,axis=1) #가장 큰 인덱스 리턴"
      ]
    },
    {
      "cell_type": "markdown",
      "metadata": {
        "id": "wT1xKrgw9vQS"
      },
      "source": [
        "8. The function get_iter_dataset makes possible to load data from only one particular class. It will help to load data class by class."
      ]
    },
    {
      "cell_type": "code",
      "execution_count": null,
      "metadata": {
        "id": "LmzvXxzHcrGp"
      },
      "outputs": [],
      "source": [
        "# function to get digits from only one class\n",
        "def get_iter_dataset(x_train, t_train, classe=None):\n",
        "    if classe is not None or classe+1 is not None:\n",
        "        selected_indices = np.where((t_train == classe) | (t_train == classe + 1))[0]\n",
        "        x = x_train[selected_indices]\n",
        "        t = t_train[selected_indices]\n",
        "        return x, t"
      ]
    },
    {
      "cell_type": "markdown",
      "metadata": {
        "id": "FkFgz_Vg9-Qz"
      },
      "source": [
        "### 9. The function \"run_batch\" train the Generator and Discriminator one a particular batch of data."
      ]
    },
    {
      "cell_type": "code",
      "execution_count": null,
      "metadata": {
        "id": "MeBNcBSqvqUM"
      },
      "outputs": [],
      "source": [
        "def run_batch(G, D, C, G_optimizer, D_optimizer, C_optimizer, x_, t_):\n",
        "      x_ = x_.view((-1, 1, 28, 28))\n",
        "\n",
        "      # y_real and y_fake are the label for fake and true data\n",
        "      y_real_ = Variable(torch.ones(x_.size(0), 1))\n",
        "      y_fake_ = Variable(torch.zeros(x_.size(0), 1))\n",
        "\n",
        "      if use_cuda:\n",
        "        y_real_, y_fake_ = y_real_.cuda(0), y_fake_.cuda(0)\n",
        "\n",
        "      z_ = torch.rand((x_.size(0), z_dim))\n",
        "\n",
        "      x_, z_ = Variable(x_), Variable(z_)\n",
        "\n",
        "      if use_cuda:\n",
        "        x_, z_, t_ = x_.cuda(0), z_.cuda(0), t_.cuda(0)\n",
        "\n",
        "      # update D network\n",
        "      D_optimizer.zero_grad()\n",
        "\n",
        "      D_real = D(x_)\n",
        "      D_real_loss = BCELoss(D_real, y_real_[:x_.size(0)])\n",
        "\n",
        "      G_ = G(z_)\n",
        "      D_fake = D(G_)\n",
        "      D_fake_loss = BCELoss(D_fake, y_fake_[:x_.size(0)])\n",
        "\n",
        "      D_loss = D_real_loss + D_fake_loss\n",
        "\n",
        "      D_loss.backward()\n",
        "      D_optimizer.step()\n",
        "\n",
        "      # update G network\n",
        "      G_optimizer.zero_grad()\n",
        "\n",
        "      G_ = G(z_)\n",
        "      D_fake = D(G_)\n",
        "      G_loss = BCELoss(D_fake, y_real_[:x_.size(0)])\n",
        "\n",
        "      G_loss.backward()\n",
        "      G_optimizer.step()\n",
        "\n",
        "      # update C\n",
        "\n",
        "      C_optimizer.zero_grad()\n",
        "\n",
        "      output = C(x_)\n",
        "\n",
        "      C_loss = criterion(output, t_)\n",
        "\n",
        "      C_loss.backward()\n",
        "      C_optimizer.step()\n",
        "\n",
        "      return output"
      ]
    },
    {
      "cell_type": "code",
      "execution_count": null,
      "metadata": {
        "id": "I_3so87yxYX6"
      },
      "outputs": [],
      "source": [
        "#Declarations and Hyper-parameters\n",
        "\n",
        "# Training hyper-parameter\n",
        "nb_task = 10  # change this to 10 if you want the experiment of the full 10 classes setting\n",
        "nb_inc = 2\n",
        "batch_size = 128\n",
        "lr = 0.00005\n",
        "z_dim = 62\n",
        "epoch_number = 50\n",
        "nb_samples = 10\n",
        "\n",
        "G = Generator()\n",
        "D = Discriminator()\n",
        "C = Classifier()\n",
        "\n",
        "# G and D are put in train mode\n",
        "G.train()\n",
        "D.train()\n",
        "C.train()\n",
        "\n",
        "if use_cuda:\n",
        "  G.cuda(0)\n",
        "  D.cuda(0)\n",
        "  C.cuda(0)\n",
        "\n",
        "# Use of Adam optimizer\n",
        "G_optimizer = optim.Adam(G.parameters(), lr=lr)\n",
        "D_optimizer = optim.Adam(D.parameters(), lr=lr)\n",
        "C_optimizer = optim.Adam(C.parameters(), lr=lr)\n",
        "\n",
        "criterion = nn.CrossEntropyLoss()\n",
        "BCELoss = nn.BCELoss()"
      ]
    },
    {
      "cell_type": "markdown",
      "metadata": {
        "id": "PmJPlExp--5A"
      },
      "source": [
        "10. This function help to generate replayed data from the GAN use as memory (Gt-1)"
      ]
    },
    {
      "cell_type": "code",
      "source": [
        "def CrossEntropy(p, q):\n",
        "    delta = 1e-7        # log 0을 계산할 수 없으므로, 아주 작은 값을 넣음\n",
        "    return -np.sum(q * np.log(p + delta))"
      ],
      "metadata": {
        "id": "DxhAPw7Y4sh2"
      },
      "execution_count": null,
      "outputs": []
    },
    {
      "cell_type": "code",
      "source": [
        "def ground(a):\n",
        "    new = np.zeros((a, a))\n",
        "    for i in range(a):\n",
        "        new[i][i] = 1\n",
        "    return new"
      ],
      "metadata": {
        "id": "A3vlikRZ4bOp"
      },
      "execution_count": null,
      "outputs": []
    },
    {
      "cell_type": "code",
      "source": [
        "# 상위 k개 고르기\n",
        "def Rank(sumArr, img, y1, k):\n",
        "    y = pd.DataFrame({'a': sumArr, 'b':img.tolist(), 'c':y1.tolist()})\n",
        "    y = y.sort_values(by=['a'], axis = 0)\n",
        "    img_ = y['b'][0:k]\n",
        "    y1_ = y['c'][0:k]\n",
        "    return img_.tolist(), y1_.tolist()"
      ],
      "metadata": {
        "id": "kNsi2Q_MmZ3T"
      },
      "execution_count": null,
      "outputs": []
    },
    {
      "cell_type": "code",
      "source": [
        "\n",
        "# # 하위 k개 고르기\n",
        "# def Rank_t(sumArr, img, y1, k):\n",
        "#     y = pd.DataFrame({'a': sumArr, 'b': img.tolist(), 'c': y1.tolist()})\n",
        "#     y = y.sort_values(by=['a'], ascending=False)\n",
        "#     img_ = y['b'].head(k).tolist()\n",
        "#     y1_ = y['c'].head(k).tolist()\n",
        "#     return img_, y1_"
      ],
      "metadata": {
        "id": "NDz9RAZeGhF3"
      },
      "execution_count": null,
      "outputs": []
    },
    {
      "cell_type": "code",
      "source": [
        "def GetCrossEntropy(y1, y2):\n",
        "    sumArr = []\n",
        "    delta = 1e-7 # log 0을 계산할 수 없어서 임의의 작은 값 넣어줌\n",
        "    for i in range(len(y1)):\n",
        "      arr = []\n",
        "      for (a, b) in zip(y1[i].tolist() ,y2.tolist()):\n",
        "          arr.append(-a*np.log(b+delta))\n",
        "      sumArr.append(sum(arr))\n",
        "    return sumArr"
      ],
      "metadata": {
        "id": "SiypSeMFD6WY"
      },
      "execution_count": null,
      "outputs": []
    },
    {
      "cell_type": "code",
      "source": [
        "def selector(images, label, k):\n",
        "    img = []\n",
        "    lbl = []\n",
        "    lbl_for_one_hot = []\n",
        "    GroundTruth = ground(len(label[0]))\n",
        "    for i in range(len(GroundTruth)):\n",
        "        sumArr = GetCrossEntropy(label, GroundTruth[i])\n",
        "        new_images, new_label = Rank(sumArr, images, label, k)\n",
        "        img = img + new_images\n",
        "        lbl = lbl + new_label\n",
        "    for k in lbl:\n",
        "      lbl_for_one_hot.append(k.index(max(k)))\n",
        "    return torch.tensor(img), torch.tensor(lbl_for_one_hot)"
      ],
      "metadata": {
        "id": "_X1_Bw-Qmc8i"
      },
      "execution_count": null,
      "outputs": []
    },
    {
      "cell_type": "code",
      "source": [
        "k = 1"
      ],
      "metadata": {
        "id": "UqjyE5IAIKrA"
      },
      "execution_count": null,
      "outputs": []
    },
    {
      "cell_type": "code",
      "source": [
        "def get_replay_with_label(generator, classifier, batchsize):\n",
        "\n",
        "  z_ = Variable(torch.rand((batchsize, z_dim)))\n",
        "  if use_cuda:\n",
        "    z_ = z_.cuda(0)\n",
        "  images = generator(z_)\n",
        "  label = classifier.predict(images)\n",
        "  images, lbl_for_one_hot = selector(images, label, k)\t\t#추가\n",
        "  label = nn.functional.one_hot(lbl_for_one_hot, num_classes = len(label[0]))   #one hot encoding\n",
        "  torch.tensor(label)\n",
        "  return images.cpu(), label.cpu()"
      ],
      "metadata": {
        "id": "1FUfC0U2mqVy"
      },
      "execution_count": null,
      "outputs": []
    },
    {
      "cell_type": "code",
      "execution_count": null,
      "metadata": {
        "id": "yBYJfzOghpAo"
      },
      "outputs": [],
      "source": [
        "# def get_replay_with_label(generator, classifier, batchsize, task, split):\n",
        "#     images_list = []\n",
        "#     labels_list = []\n",
        "#     task_label = [[] for _ in range(task*split)]\n",
        "\n",
        "#     while True:\n",
        "#         if all(len(r) >= batchsize for r in task_label):\n",
        "#             break\n",
        "#         z_ = Variable(torch.rand((batchsize, z_dim)))\n",
        "\n",
        "#         if use_cuda:\n",
        "#             z_ = z_.cuda(0)\n",
        "\n",
        "#         images = generator(z_)\n",
        "#         labels = classifier.predict(images)\n",
        "\n",
        "#         for i in range(len(labels)):\n",
        "#             label = labels[i]\n",
        "#             if len(task_label[label]) < batchsize:\n",
        "#                 images_list.append(images[i].unsqueeze(0))\n",
        "#                 labels_list.append(label.item())\n",
        "#                 task_label[label].append(label.item())\n",
        "\n",
        "#     images = torch.cat(images_list, dim=0)\n",
        "#     labels = torch.tensor(labels_list)\n",
        "\n",
        "#     return images.cpu(), labels.cpu()"
      ]
    },
    {
      "cell_type": "markdown",
      "metadata": {
        "id": "ErM-LpqUyjgs"
      },
      "source": [
        "###Training Generator with Replay\n",
        "\n",
        "After seeing what happend when training without Generative Replay, we can now see how efficient generative replay is in this setting."
      ]
    },
    {
      "cell_type": "code",
      "execution_count": null,
      "metadata": {
        "colab": {
          "base_uri": "https://localhost:8080/",
          "height": 476
        },
        "id": "aDAtAd8W8Mo2",
        "outputId": "70e66474-561d-48ab-eb24-0e114161a8c2"
      },
      "outputs": [
        {
          "output_type": "stream",
          "name": "stderr",
          "text": [
            "/usr/local/lib/python3.10/dist-packages/torch/nn/modules/module.py:1511: UserWarning: Implicit dimension choice for softmax has been deprecated. Change the call to include dim=X as an argument.\n",
            "  return self._call_impl(*args, **kwargs)\n"
          ]
        },
        {
          "output_type": "stream",
          "name": "stdout",
          "text": [
            "task 0\n",
            "task 1\n",
            "task 2\n",
            "task 3\n",
            "task 4\n"
          ]
        },
        {
          "output_type": "display_data",
          "data": {
            "text/plain": [
              "<Figure size 640x480 with 10 Axes>"
            ],
            "image/png": "[encoded data removed]"
          },
          "metadata": {}
        },
        {
          "output_type": "display_data",
          "data": {
            "text/plain": [
              "<Figure size 640x480 with 10 Axes>"
            ],
            "image/png": "[encoded data removed]"
          },
          "metadata": {}
        },
        {
          "output_type": "display_data",
          "data": {
            "text/plain": [
              "<Figure size 640x480 with 10 Axes>"
            ],
            "image/png": "[encoded data removed]"
          },
          "metadata": {}
        },
        {
          "output_type": "display_data",
          "data": {
            "text/plain": [
              "<Figure size 640x480 with 10 Axes>"
            ],
            "image/png": "[encoded data removed]"
          },
          "metadata": {}
        },
        {
          "output_type": "display_data",
          "data": {
            "text/plain": [
              "<Figure size 640x480 with 10 Axes>"
            ],
            "image/png": "[encoded data removed]"
          },
          "metadata": {}
        }
      ],
      "source": [
        "# We reinit D and G to not cheat\n",
        "G.reinit()\n",
        "D.reinit()\n",
        "\n",
        "for task in range(int(nb_task/nb_inc)):\n",
        "\n",
        "  data, label = get_iter_dataset(x_train, t_train, classe=task*nb_inc)\n",
        "  nb_batch = int(len(data)/batch_size)\n",
        "\n",
        "  for epoch in range(epoch_number):\n",
        "    for index in range(nb_batch):\n",
        "      x_ = torch.FloatTensor(data[index*batch_size:(index+1)*batch_size])\n",
        "      t_ = torch.tensor(label[index*batch_size:(index+1)*batch_size])\n",
        "\n",
        "      if task > 0 :\n",
        "        # We concat a batch of previously learned data\n",
        "        # the more there is past task more data need to be regenerate\n",
        "        # replay, re_label = get_replay_with_label(G_saved, C_saved, batch_size, task, nb_inc)\n",
        "        replay, re_label = get_replay_with_label(G_saved, C_saved, batch_size)\n",
        "        x_=torch.cat((x_,replay),0)\n",
        "        t_=torch.cat((t_,re_label),0)\n",
        "\n",
        "      run_batch(G, D, C, G_optimizer, D_optimizer, C_optimizer, x_, t_)\n",
        "\n",
        "  G_saved = deepcopy(G)\n",
        "  C_saved = deepcopy(C)\n",
        "\n",
        "  z_ = Variable(torch.rand((nb_samples, z_dim)))\n",
        "\n",
        "  if use_cuda:\n",
        "    z_ = z_.cuda(0)\n",
        "  samples = G(z_).data\n",
        "  samples = samples.cpu().numpy()\n",
        "  #plt.plot(samples[0])\n",
        "\n",
        "  f, axarr = plt.subplots(1,nb_samples)\n",
        "  for j in range(nb_samples):\n",
        "    axarr[j].imshow(samples[j, 0], cmap=\"gray\")\n",
        "  np.vectorize(lambda ax:ax.axis('off'))(axarr);\n",
        "\n",
        "  samples_tensor = torch.FloatTensor(samples)\n",
        "  if use_cuda:\n",
        "    samples_tensor = samples_tensor.cuda()\n",
        "\n",
        "  predictions = C.predict(samples_tensor)\n",
        "  print(\"task\", task)"
      ]
    },
    {
      "cell_type": "markdown",
      "metadata": {
        "id": "s584hqJW5g2b"
      },
      "source": [
        "학습한 거 사진 어떻게 나오나 + 라벨 보고 싶으면 아래 두 코드만 반복하면 됩니다!"
      ]
    },
    {
      "cell_type": "code",
      "execution_count": null,
      "metadata": {
        "id": "S7kyJe3l3Axe",
        "colab": {
          "base_uri": "https://localhost:8080/",
          "height": 79
        },
        "outputId": "e1741a90-558b-40d1-a44c-db6f8b413256"
      },
      "outputs": [
        {
          "output_type": "display_data",
          "data": {
            "text/plain": [
              "<Figure size 640x480 with 10 Axes>"
            ],
            "image/png": "[encoded data removed]"
          },
          "metadata": {}
        }
      ],
      "source": [
        "z_ = Variable(torch.rand((nb_samples, z_dim)))\n",
        "if use_cuda:\n",
        "  z_ = z_.cuda(0)\n",
        "samples = G(z_).data\n",
        "samples = samples.cpu().numpy()\n",
        "#plt.plot(samples[0])\n",
        "\n",
        "f, axarr = plt.subplots(1,nb_samples)\n",
        "for j in range(nb_samples):\n",
        "  axarr[j].imshow(samples[j, 0], cmap=\"gray\")\n",
        "np.vectorize(lambda ax:ax.axis('off'))(axarr);"
      ]
    },
    {
      "cell_type": "code",
      "execution_count": null,
      "metadata": {
        "id": "Tj-0NAbL2eQt",
        "colab": {
          "base_uri": "https://localhost:8080/"
        },
        "outputId": "d33bec72-ec2d-4156-938f-2127510b9786"
      },
      "outputs": [
        {
          "output_type": "stream",
          "name": "stdout",
          "text": [
            "tensor([[0.0853, 0.0853, 0.0853, 0.0853, 0.0853, 0.0853, 0.2320, 0.0853, 0.0853,\n",
            "         0.0853],\n",
            "        [0.2320, 0.0853, 0.0853, 0.0853, 0.0853, 0.0853, 0.0853, 0.0853, 0.0853,\n",
            "         0.0853],\n",
            "        [0.0853, 0.0853, 0.2320, 0.0853, 0.0853, 0.0853, 0.0853, 0.0853, 0.0853,\n",
            "         0.0853],\n",
            "        [0.0853, 0.0853, 0.2320, 0.0853, 0.0853, 0.0853, 0.0853, 0.0853, 0.0853,\n",
            "         0.0853],\n",
            "        [0.0853, 0.0853, 0.0853, 0.2318, 0.0853, 0.0853, 0.0853, 0.0854, 0.0853,\n",
            "         0.0853],\n",
            "        [0.0853, 0.0853, 0.0853, 0.0853, 0.0853, 0.0853, 0.0853, 0.2320, 0.0853,\n",
            "         0.0853],\n",
            "        [0.0854, 0.0854, 0.0854, 0.0854, 0.0854, 0.0854, 0.0854, 0.0854, 0.0856,\n",
            "         0.2315],\n",
            "        [0.0853, 0.0853, 0.0853, 0.0853, 0.0853, 0.0853, 0.0853, 0.2320, 0.0853,\n",
            "         0.0853],\n",
            "        [0.0853, 0.0853, 0.0853, 0.0853, 0.0853, 0.0853, 0.0853, 0.0853, 0.2320,\n",
            "         0.0853],\n",
            "        [0.0853, 0.0853, 0.0853, 0.0853, 0.0853, 0.0853, 0.0853, 0.0853, 0.2320,\n",
            "         0.0853]], device='cuda:0', grad_fn=<SoftmaxBackward0>)\n"
          ]
        }
      ],
      "source": [
        "samples_tensor = torch.FloatTensor(samples)\n",
        "\n",
        "samples_tensor = samples_tensor.view(-1, 1, 28, 28)\n",
        "\n",
        "if use_cuda:\n",
        "    samples_tensor = samples_tensor.cuda()\n",
        "\n",
        "predictions = C.predict(samples_tensor)\n",
        "\n",
        "print(predictions)"
      ]
    },
    {
      "cell_type": "markdown",
      "metadata": {
        "id": "aMegBhP55oYz"
      },
      "source": [
        "정확도"
      ]
    },
    {
      "cell_type": "code",
      "execution_count": null,
      "metadata": {
        "id": "Hv80HrHR4fpM"
      },
      "outputs": [],
      "source": [
        "def test(model, x_test, y_test):\n",
        "    model = model.cpu()\n",
        "\n",
        "    x_test = torch.FloatTensor(x_test)\n",
        "    y_test = torch.LongTensor(y_test)\n",
        "\n",
        "    print(y_test)\n",
        "\n",
        "    prediction = model(x_test)\n",
        "    predicted_classes = prediction.max(1)[1]\n",
        "    print(predicted_classes)\n",
        "    correct_count = (predicted_classes == y_test).sum().item()\n",
        "    cost = F.cross_entropy(prediction, y_test)\n",
        "\n",
        "    print(correct_count)\n",
        "\n",
        "    print('Accuracy: {}% Cost: {:.6f}'.format(\n",
        "        correct_count / len(y_test) * 100, cost.item()\n",
        "    ))"
      ]
    },
    {
      "cell_type": "code",
      "source": [
        "test(C, x_test, t_test)"
      ],
      "metadata": {
        "colab": {
          "base_uri": "https://localhost:8080/"
        },
        "id": "PuyT2nwuGTZo",
        "outputId": "b8bd89f7-dc7f-4bb4-e56a-ed09f597b75b"
      },
      "execution_count": null,
      "outputs": [
        {
          "output_type": "stream",
          "name": "stdout",
          "text": [
            "tensor([7, 2, 1,  ..., 4, 5, 6])\n",
            "tensor([7, 2, 1,  ..., 4, 5, 6])\n",
            "9796\n",
            "Accuracy: 97.96000000000001% Cost: 1.480904\n"
          ]
        }
      ]
    },
    {
      "cell_type": "markdown",
      "metadata": {
        "id": "EirditOfoPC4"
      },
      "source": [
        "비교용 분류기"
      ]
    },
    {
      "cell_type": "code",
      "source": [
        "class Classifier_test(nn.Module):\n",
        "    def __init__(self):\n",
        "        super( Classifier_test, self).__init__()\n",
        "\n",
        "        self.input_height = 28\n",
        "        self.input_width = 28\n",
        "        self.input_dim = 1\n",
        "        self.output_dim = 10\n",
        "        self.batchsize = 64\n",
        "        self.drop_prob = 0.3\n",
        "\n",
        "        self.softmax = nn.Softmax()\n",
        "\n",
        "        self.conv = nn.Sequential(\n",
        "            nn.Conv2d(self.input_dim, self.batchsize, kernel_size=3, stride=1, padding=1),\n",
        "            nn.ReLU(),\n",
        "            nn.BatchNorm2d(64),\n",
        "            nn.Dropout(self.drop_prob),\n",
        "            nn.Flatten())\n",
        "        self.fc = nn.Linear(self.batchsize * self.input_height * self.input_width, self.output_dim)\n",
        "\n",
        "    def forward(self, x):\n",
        "        x = x.view(-1, 1, self.input_height, self.input_width)\n",
        "        x = self.conv(x)\n",
        "        x = self.fc(x)\n",
        "        x = self.softmax(x)\n",
        "        return x\n",
        "\n",
        "    def predict(self, x_data):\n",
        "        result = self.forward(x_data)\n",
        "        result = F.softmax(result, dim=1)\n",
        "        return result\n",
        "        # return torch.argmax(z,axis=1) #가장 큰 인덱스 리턴"
      ],
      "metadata": {
        "id": "R3MsX0qPJ6kZ"
      },
      "execution_count": null,
      "outputs": []
    },
    {
      "cell_type": "code",
      "execution_count": null,
      "metadata": {
        "id": "AJI5eZJspjdX"
      },
      "outputs": [],
      "source": [
        "model_test = Classifier_test()\n",
        "criterion_test = nn.CrossEntropyLoss()\n",
        "C_optimizer_test = optim.Adam(model_test.parameters(), lr=lr)\n",
        "\n",
        "if use_cuda:\n",
        "  model_test.cuda(0)"
      ]
    },
    {
      "cell_type": "code",
      "execution_count": null,
      "metadata": {
        "id": "4uXRA5IcqW7g"
      },
      "outputs": [],
      "source": [
        "x_train_t = torch.tensor(x_train, dtype=torch.float32)\n",
        "t_train_t = torch.tensor(t_train, dtype=torch.long)\n",
        "\n",
        "train_dataset = torch.utils.data.TensorDataset(x_train_t, t_train_t)\n",
        "train_loader = torch.utils.data.DataLoader(train_dataset, batch_size, shuffle=True)"
      ]
    },
    {
      "cell_type": "code",
      "source": [
        "best_model = model_test.state_dict()\n",
        "best_acc = 0.0\n",
        "\n",
        "for epoch in range(epoch_number):\n",
        "  print('-----------------------------------')\n",
        "  print('{} Epoch'.format(epoch+1))\n",
        "\n",
        "  model_test.train(True)\n",
        "\n",
        "\n",
        "  running_loss = 0.0  ## Loss & Acc Initialize\n",
        "  running_corrects = 0\n",
        "\n",
        "  for (data, target) in train_loader:  ## Read Data from dataloaders\n",
        "    if use_cuda:\n",
        "      data, target = data.cuda(), target.cuda()\n",
        "    data, target = Variable(data).to(device), Variable(target).to(device)  ## CUDA Setting\n",
        "\n",
        "    C_optimizer_test.zero_grad()  ## Optimizer initialize every batch\n",
        "    outputs = model_test(data)  ## Put images to network\n",
        "    pred = outputs.data.max(dim=1, keepdim=True)[1]  ## prediction - MNIST data represented each 0 ~ 9\n",
        "    pred = F.one_hot(pred, num_classes=10)\n",
        "    loss = criterion(outputs, target.float())\n",
        "\n",
        "\n",
        "    loss.backward()  ## get gradient\n",
        "    C_optimizer_test.step()  ## optimizer task for network's train\n",
        "\n",
        "    running_loss += loss.item()\n",
        "    running_corrects += pred.eq(target.data.view_as(pred)).cpu().sum()"
      ],
      "metadata": {
        "colab": {
          "base_uri": "https://localhost:8080/"
        },
        "id": "zQh7k3dDASXK",
        "outputId": "a0d6ae19-7f7c-42bc-e278-172474e8f240"
      },
      "execution_count": null,
      "outputs": [
        {
          "output_type": "stream",
          "name": "stdout",
          "text": [
            "-----------------------------------\n",
            "1 Epoch\n"
          ]
        },
        {
          "output_type": "stream",
          "name": "stderr",
          "text": [
            "/usr/local/lib/python3.10/dist-packages/torch/nn/modules/module.py:1511: UserWarning: Implicit dimension choice for softmax has been deprecated. Change the call to include dim=X as an argument.\n",
            "  return self._call_impl(*args, **kwargs)\n"
          ]
        },
        {
          "output_type": "stream",
          "name": "stdout",
          "text": [
            "-----------------------------------\n",
            "2 Epoch\n",
            "-----------------------------------\n",
            "3 Epoch\n",
            "-----------------------------------\n",
            "4 Epoch\n",
            "-----------------------------------\n",
            "5 Epoch\n",
            "-----------------------------------\n",
            "6 Epoch\n",
            "-----------------------------------\n",
            "7 Epoch\n",
            "-----------------------------------\n",
            "8 Epoch\n",
            "-----------------------------------\n",
            "9 Epoch\n",
            "-----------------------------------\n",
            "10 Epoch\n",
            "-----------------------------------\n",
            "11 Epoch\n",
            "-----------------------------------\n",
            "12 Epoch\n",
            "-----------------------------------\n",
            "13 Epoch\n",
            "-----------------------------------\n",
            "14 Epoch\n",
            "-----------------------------------\n",
            "15 Epoch\n",
            "-----------------------------------\n",
            "16 Epoch\n",
            "-----------------------------------\n",
            "17 Epoch\n",
            "-----------------------------------\n",
            "18 Epoch\n",
            "-----------------------------------\n",
            "19 Epoch\n",
            "-----------------------------------\n",
            "20 Epoch\n",
            "-----------------------------------\n",
            "21 Epoch\n",
            "-----------------------------------\n",
            "22 Epoch\n",
            "-----------------------------------\n",
            "23 Epoch\n",
            "-----------------------------------\n",
            "24 Epoch\n",
            "-----------------------------------\n",
            "25 Epoch\n",
            "-----------------------------------\n",
            "26 Epoch\n",
            "-----------------------------------\n",
            "27 Epoch\n",
            "-----------------------------------\n",
            "28 Epoch\n",
            "-----------------------------------\n",
            "29 Epoch\n",
            "-----------------------------------\n",
            "30 Epoch\n",
            "-----------------------------------\n",
            "31 Epoch\n",
            "-----------------------------------\n",
            "32 Epoch\n",
            "-----------------------------------\n",
            "33 Epoch\n",
            "-----------------------------------\n",
            "34 Epoch\n",
            "-----------------------------------\n",
            "35 Epoch\n",
            "-----------------------------------\n",
            "36 Epoch\n",
            "-----------------------------------\n",
            "37 Epoch\n",
            "-----------------------------------\n",
            "38 Epoch\n",
            "-----------------------------------\n",
            "39 Epoch\n",
            "-----------------------------------\n",
            "40 Epoch\n",
            "-----------------------------------\n",
            "41 Epoch\n",
            "-----------------------------------\n",
            "42 Epoch\n",
            "-----------------------------------\n",
            "43 Epoch\n",
            "-----------------------------------\n",
            "44 Epoch\n",
            "-----------------------------------\n",
            "45 Epoch\n",
            "-----------------------------------\n",
            "46 Epoch\n",
            "-----------------------------------\n",
            "47 Epoch\n",
            "-----------------------------------\n",
            "48 Epoch\n",
            "-----------------------------------\n",
            "49 Epoch\n",
            "-----------------------------------\n",
            "50 Epoch\n"
          ]
        }
      ]
    },
    {
      "cell_type": "code",
      "execution_count": null,
      "metadata": {
        "id": "JRoKTZd8t5Zf"
      },
      "outputs": [],
      "source": [
        "def test_t(model, x_test, y_test):\n",
        "\n",
        "    x_test = torch.FloatTensor(x_test)\n",
        "    y_test = torch.LongTensor(y_test)\n",
        "\n",
        "    if use_cuda:\n",
        "        x_test, y_test = x_test.cuda(), y_test.cuda()\n",
        "    prediction = model(x_test)\n",
        "    predicted_classes = prediction.max(1)[1]\n",
        "    correct_count = (predicted_classes == y_test).sum().item()\n",
        "    cost = F.cross_entropy(prediction, y_test)\n",
        "\n",
        "    print('Accuracy: {}% Cost: {:.6f}'.format(\n",
        "        correct_count / len(y_test) * 100, cost.item()\n",
        "    ))"
      ]
    },
    {
      "cell_type": "code",
      "execution_count": null,
      "metadata": {
        "id": "eyCO8CkRrXw_",
        "colab": {
          "base_uri": "https://localhost:8080/"
        },
        "outputId": "b4a106b0-243a-43f8-8de9-532020db33e6"
      },
      "outputs": [
        {
          "output_type": "stream",
          "name": "stdout",
          "text": [
            "Accuracy: 98.07000000000001% Cost: 1.480807\n"
          ]
        }
      ],
      "source": [
        "test_t(model_test, x_test, t_test)"
      ]
    },
    {
      "cell_type": "code",
      "execution_count": null,
      "metadata": {
        "id": "7CFqEzNwtmnW"
      },
      "outputs": [],
      "source": []
    }
  ],
  "metadata": {
    "accelerator": "GPU",
    "colab": {
      "provenance": []
    },
    "kernelspec": {
      "display_name": "Python 3",
      "name": "python3"
    }
  },
  "nbformat": 4,
  "nbformat_minor": 0
}